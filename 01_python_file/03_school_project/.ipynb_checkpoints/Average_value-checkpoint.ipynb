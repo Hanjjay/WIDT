{
 "cells": [
  {
   "cell_type": "code",
   "execution_count": 2,
   "metadata": {},
   "outputs": [],
   "source": [
    "def getdata(a,F_A,b,F_B):\n",
    "        Average_value = F_B - F_A / b-a\n",
    "        return Average_value"
   ]
  },
  {
   "cell_type": "code",
   "execution_count": 15,
   "metadata": {},
   "outputs": [],
   "source": [
    "def main():\n",
    "    Function = input(\"함수를 입력해 주세요\")\n",
    "    a = int(input(\"A좌표의 x 값을 입력해 주세요\"))\n",
    "    F_A = int(input(\"A좌표의 y값을 입려해 주세요 \"))\n",
    "    b = int(input(\"B좌표의 x 값을 입력해 주세요\"))\n",
    "    F_B =int( input(\"B좌표의 y값을 입력해 주세요\"))\n",
    "    \n",
    "    \n",
    "    result = getdata (a,F_A,b,F_B)\n",
    "    \n",
    "    print(\"함수%s평균값은 %d 입니다\"%(Function,result))    "
   ]
  },
  {
   "cell_type": "code",
   "execution_count": 16,
   "metadata": {},
   "outputs": [
    {
     "name": "stdout",
     "output_type": "stream",
     "text": [
      "함수를 입력해 주세요efsadj3\n",
      "A좌표의 x 값을 입력해 주세요1\n",
      "A좌표의 y값을 입려해 주세요 0\n",
      "B좌표의 x 값을 입력해 주세요5\n",
      "B좌표의 y값을 입력해 주세요4\n",
      "함수efsadj3평균값은3입니다\n"
     ]
    }
   ],
   "source": [
    "main()"
   ]
  },
  {
   "cell_type": "code",
   "execution_count": null,
   "metadata": {},
   "outputs": [],
   "source": []
  }
 ],
 "metadata": {
  "kernelspec": {
   "display_name": "Python 3",
   "language": "python",
   "name": "python3"
  },
  "language_info": {
   "codemirror_mode": {
    "name": "ipython",
    "version": 3
   },
   "file_extension": ".py",
   "mimetype": "text/x-python",
   "name": "python",
   "nbconvert_exporter": "python",
   "pygments_lexer": "ipython3",
   "version": "3.7.3"
  }
 },
 "nbformat": 4,
 "nbformat_minor": 2
}
