{
 "cells": [
  {
   "cell_type": "markdown",
   "metadata": {},
   "source": [
    "## flatten()\n",
    "For this exercise you will create a global flatten method.\n",
    "The method takes in any number of arguments and flattens them into a single array.\n",
    "If any of the arguments passed in are an array then the individual objects\n",
    "within the array will be flattened so that they exist at the same level as the other arguments.\n",
    "Any nested arrays,\n",
    "no matter how deep,\n",
    "should be flattened into the single array result.\n",
    "\n",
    "The following are examples of how this function would be used and what the expected results would be:\n",
    "* flatten(1, [2, 3], 4, 5, [6, [7]]) # returns [1, 2, 3, 4, 5, 6, 7]\n",
    "* flatten('a', ['b', 2], 3, None, [[4], ['c']]) # returns ['a', 'b', 2, 3, None, 4, 'c']"
   ]
  },
  {
   "cell_type": "code",
   "execution_count": null,
   "metadata": {},
   "outputs": [],
   "source": [
    "def flatten(*arr):\n",
    "    return"
   ]
  },
  {
   "cell_type": "code",
   "execution_count": null,
   "metadata": {},
   "outputs": [],
   "source": []
  }
 ],
 "metadata": {
  "kernelspec": {
   "display_name": "Python 3",
   "language": "python",
   "name": "python3"
  },
  "language_info": {
   "codemirror_mode": {
    "name": "ipython",
    "version": 3
   },
   "file_extension": ".py",
   "mimetype": "text/x-python",
   "name": "python",
   "nbconvert_exporter": "python",
   "pygments_lexer": "ipython3",
   "version": "3.7.3"
  }
 },
 "nbformat": 4,
 "nbformat_minor": 2
}
