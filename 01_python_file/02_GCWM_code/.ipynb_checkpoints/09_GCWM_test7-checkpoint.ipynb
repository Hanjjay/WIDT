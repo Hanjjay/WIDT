{
 "cells": [
  {
   "cell_type": "markdown",
   "metadata": {},
   "source": [
    "###### 연습문제 8-10 도형 클래스 정의하기 1\n",
    "\n",
    " - 다음 요구사항을 참고해 도형(Shape), 삼각형(Triangle), 사각형(Rectangle)을 나타내는 클래스를 정의하여라.\n",
    "\n",
    " > 1. Shape: 도형을 나타내는 클래스\n",
    " >\n",
    " >     - 클래스 메서드 describe(): “이 도형은 3 개의 변을 갖고 있습니다.”와 같이 이 도형의 특징을 화면에 출력한다. 변의 개수는 self.sides 속성을 읽어 구한다.\n",
    " >\n",
    " > 2. Triangle: 삼각형을 나타내는 클래스\n",
    " >\n",
    " >     - Shape 클래스를 상속\n",
    " >\n",
    " >     - 클래스 속성 sides: 변의 개수를 나타내는 속성. 3으로 고정\n",
    " >\n",
    " > 3. Rectangle: 사각형을 나타내는 클래스\n",
    " >\n",
    " >     - Shape 클래스를 상속\n",
    " >\n",
    " >     - 클래스 속성 sides: 변의 개수를 나타내는 속성. 4로 고정\n",
    "\n",
    " - 클래스를 정의한 후에는 프로그램 하단에 도형의 인스턴스를 만들어 특징을 출력하는 다음 코드를 삽입하여라.\n",
    "\n",
    "```\n",
    "shapes = [\n",
    "    Triangle(),\n",
    "    Rectangle(),\n",
    "]\n",
    "for shape in shapes:\n",
    "    shape.describe()\n",
    "```    \n",
    "\n",
    " - 프로그램을 실행한 결과는 다음과 같아야 한다.\n",
    "\n",
    "```\n",
    "이 도형은 3 개의 변을 갖고 있습니다.\n",
    "이 도형은 4 개의 변을 갖고 있습니다.\n",
    "```"
   ]
  },
  {
   "cell_type": "code",
   "execution_count": null,
   "metadata": {},
   "outputs": [],
   "source": []
  }
 ],
 "metadata": {
  "kernelspec": {
   "display_name": "Python 3",
   "language": "python",
   "name": "python3"
  },
  "language_info": {
   "codemirror_mode": {
    "name": "ipython",
    "version": 3
   },
   "file_extension": ".py",
   "mimetype": "text/x-python",
   "name": "python",
   "nbconvert_exporter": "python",
   "pygments_lexer": "ipython3",
   "version": "3.7.3"
  }
 },
 "nbformat": 4,
 "nbformat_minor": 2
}
