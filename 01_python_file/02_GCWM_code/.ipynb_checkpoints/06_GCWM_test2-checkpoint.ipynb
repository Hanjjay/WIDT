{
 "cells": [
  {
   "cell_type": "code",
   "execution_count": 8,
   "metadata": {},
   "outputs": [
    {
     "name": "stdout",
     "output_type": "stream",
     "text": [
      "True\n",
      "False\n",
      "True\n"
     ]
    }
   ],
   "source": [
    "def is_leap_year(n):\n",
    "    if 0 == n%4:\n",
    "        if 0 == n%100:\n",
    "            if 0 == n%400:\n",
    "                return True\n",
    "            else: return False\n",
    "        else: return True\n",
    "    else: return False\n",
    "\n",
    "print(is_leap_year(2000))\n",
    "print(is_leap_year(1900))\n",
    "print(is_leap_year(1996))"
   ]
  }
 ],
 "metadata": {
  "kernelspec": {
   "display_name": "Python 3",
   "language": "python",
   "name": "python3"
  },
  "language_info": {
   "codemirror_mode": {
    "name": "ipython",
    "version": 3
   },
   "file_extension": ".py",
   "mimetype": "text/x-python",
   "name": "python",
   "nbconvert_exporter": "python",
   "pygments_lexer": "ipython3",
   "version": "3.7.3"
  }
 },
 "nbformat": 4,
 "nbformat_minor": 2
}
