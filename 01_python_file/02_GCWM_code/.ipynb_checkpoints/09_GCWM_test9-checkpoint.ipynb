{
 "cells": [
  {
   "cell_type": "markdown",
   "metadata": {},
   "source": [
    "###### 연습문제 8-12 주사위\n",
    "\n",
    " - 다음 조건에 맞춰 주사위를 나타내는 클래스(Dice)를 정의하여라\n",
    "\n",
    " > 1. 각 주사위 객체마다 면의 수가 다르다. 예를 들어 육면체 주사위는 6개의 면을 갖는다. 이 ‘면의 수’를 비공개 인스턴스 속성으로 정의하라.\n",
    " >\n",
    " > 2. 각 주사위 객체는 항상 어느 한 면이 위를 향하고 있으며, 그 면은 1과 ‘면의 수’ 사이의 자연수다. 이 ‘나온 면’을 비공개 인스턴스 속성으로 정의하라.\n",
    " >\n",
    " > 3. 주사위 인스턴스는 Dice(sides)와 같이 하나의 인자를 전달하여 생성한다. 인스턴스화 과정에서 ‘면의 수’는 sides가 전달받는 값으로, ‘나온 면’은 자신이 가질 수 있는 임의의 값으로 초기화된다.\n",
    " >\n",
    " > 4. 인스턴스의 현재 ‘나온 면’을 반환하는 top() 메서드를 정의하라.\n",
    " >\n",
    " > 5. 인스턴스의 ‘나온 면’을 새 임의의 값으로 설정하고 반환하는 role() 메서드를 정의하라.\n",
    " >\n",
    " > 6. n 이상 m 이하의 임의의 수는 random.randint(n, m) 함수를 사용하여 구한다. 예를 들어 1 이상 8 이하의 임의의 수는 random.randint(1, 8)이다. (이 함수를 사용하려면 먼저 random 모듈을 임포트해야 한다.)\n",
    " \n",
    " - 클래스를 정의한 후 프로그램 하단에 다음 코드를 삽입해 테스트해 보아라.\n",
    "\n",
    "```\n",
    "dice_4 = Dice(4)      # 사면체 주사위 생성\n",
    "print('사면체 주사위 테스트 ----')\n",
    "print('처음 나온 면:', dice_4.top())\n",
    "print('다시 굴리기:', dice_4.roll())\n",
    "print('다시 굴리기:', dice_4.roll())\n",
    "\n",
    "dice_100 = Dice(100)  # 백면체 주사위 생성\n",
    "print('백면체 주사위 테스트 ----')\n",
    "print('처음 나온 면:', dice_100.top())\n",
    "print('다시 굴리기:', dice_100.roll())\n",
    "print('다시 굴리기:', dice_100.roll())\n",
    "```\n",
    "\n",
    " - 이 프로그램을 실행한 결과는 다음과 같다. 임의의 값이 사용되므로 나온 수는 차이가 있을 것이다.\n",
    "\n",
    "```\n",
    "사면체 주사위 테스트 ----\n",
    "나온 면: 2\n",
    "다시 굴리기: 2\n",
    "다시 굴리기: 1\n",
    "백면체 주사위 테스트 ----\n",
    "나온 면: 42\n",
    "다시 굴리기: 54\n",
    "다시 굴리기: 79"
   ]
  },
  {
   "cell_type": "code",
   "execution_count": 111,
   "metadata": {},
   "outputs": [],
   "source": [
    "import random"
   ]
  },
  {
   "cell_type": "code",
   "execution_count": 124,
   "metadata": {},
   "outputs": [],
   "source": [
    "class Dice(object):\n",
    "    sides = 4\n",
    "    Dtop = 1\n",
    "    def __init__(self,x):\n",
    "        \n",
    "        self.sides = x\n",
    "        self.Dtop = random.randint(1,self.sides)\n",
    "    \n",
    "    def top(self):\n",
    "        return self.Dtop\n",
    "    \n",
    "    def roll(self):\n",
    "        self.Dtop = random.randint(1,self.sides)\n",
    "        return self.Dtop\n",
    "    \n",
    "        "
   ]
  },
  {
   "cell_type": "code",
   "execution_count": 129,
   "metadata": {},
   "outputs": [
    {
     "name": "stdout",
     "output_type": "stream",
     "text": [
      "6\n",
      "2\n",
      "6\n"
     ]
    }
   ],
   "source": [
    "dice_6 = Dice(6)   # 육면체 주사위 생성\n",
    "\n",
    "print(dice_6.top())\n",
    "print(dice_6.roll())\n",
    "print(dice_6.roll())"
   ]
  },
  {
   "cell_type": "code",
   "execution_count": 140,
   "metadata": {},
   "outputs": [
    {
     "name": "stdout",
     "output_type": "stream",
     "text": [
      "사면체 주사위 테스트 ----\n",
      "처음 나온 면: 3\n",
      "다시 굴리기: 4\n",
      "다시 굴리기: 4\n",
      "백면체 주사위 테스트 ----\n",
      "처음 나온 면: 47\n",
      "다시 굴리기: 54\n",
      "다시 굴리기: 83\n"
     ]
    }
   ],
   "source": [
    "dice_4 = Dice(4)      # 사면체 주사위 생성\n",
    "print('사면체 주사위 테스트 ----')\n",
    "print('처음 나온 면:', dice_4.top())\n",
    "print('다시 굴리기:', dice_4.roll())\n",
    "print('다시 굴리기:', dice_4.roll())\n",
    "\n",
    "dice_100 = Dice(100)  # 백면체 주사위 생성\n",
    "print('백면체 주사위 테스트 ----')\n",
    "print('처음 나온 면:', dice_100.top())\n",
    "print('다시 굴리기:', dice_100.roll())\n",
    "print('다시 굴리기:', dice_100.roll())"
   ]
  },
  {
   "cell_type": "code",
   "execution_count": null,
   "metadata": {},
   "outputs": [],
   "source": []
  },
  {
   "cell_type": "code",
   "execution_count": null,
   "metadata": {},
   "outputs": [],
   "source": []
  }
 ],
 "metadata": {
  "kernelspec": {
   "display_name": "Python 3",
   "language": "python",
   "name": "python3"
  },
  "language_info": {
   "codemirror_mode": {
    "name": "ipython",
    "version": 3
   },
   "file_extension": ".py",
   "mimetype": "text/x-python",
   "name": "python",
   "nbconvert_exporter": "python",
   "pygments_lexer": "ipython3",
   "version": "3.7.3"
  }
 },
 "nbformat": 4,
 "nbformat_minor": 2
}
