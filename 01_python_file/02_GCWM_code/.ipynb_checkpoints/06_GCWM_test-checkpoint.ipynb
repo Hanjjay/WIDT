{
 "cells": [
  {
   "cell_type": "markdown",
   "metadata": {},
   "source": [
    "##### 연습문제 6-1 할인된 가격 계산\n",
    "\n",
    " - 어떤 상점에서는 상품을 한꺼번에 많이 구매하면 다음과 같이 상품 가격을 할인해 준다.\n",
    "\n",
    " > 10개 미만: 상품 하나에 100원\n",
    " > \n",
    " > 10개 이상 30개 미만: 상품 하나에 95원\n",
    " >\n",
    " > 30개 이상 100개 미만: 상품 하나에 90원\n",
    " >\n",
    " > 100개 이상: 상품 하나에 85원\n",
    "\n",
    " - 이 쇼핑몰에서 구매할 상품 개수를 입력받아, 총 지불해야 할 가격을 계산하는 함수 price()를 정의하라.\n",
    "\n",
    " - 함수를 정의한 후에는 이 함수에 여러 상품 개수를 입력하여 결과가 올바른지 확인해 보아라."
   ]
  },
  {
   "cell_type": "code",
   "execution_count": 15,
   "metadata": {},
   "outputs": [
    {
     "name": "stdout",
     "output_type": "stream",
     "text": [
      "2550원\n",
      "700원\n",
      "7020원\n",
      "17000원\n"
     ]
    }
   ],
   "source": [
    "def price(n):\n",
    "    if n<10 :\n",
    "        return print('%d원'%(n*100))\n",
    "    elif 10 < n < 30:\n",
    "        return print('%d원'%(n*95))\n",
    "    elif 30 < n <100:\n",
    "        return print('%d원'%(n*90))\n",
    "    else:\n",
    "        return print('%d원'%(n*85))\n",
    "price(30)\n",
    "price(7)\n",
    "price(78)\n",
    "price(200)"
   ]
  }
 ],
 "metadata": {
  "kernelspec": {
   "display_name": "Python 3",
   "language": "python",
   "name": "python3"
  },
  "language_info": {
   "codemirror_mode": {
    "name": "ipython",
    "version": 3
   },
   "file_extension": ".py",
   "mimetype": "text/x-python",
   "name": "python",
   "nbconvert_exporter": "python",
   "pygments_lexer": "ipython3",
   "version": "3.7.3"
  }
 },
 "nbformat": 4,
 "nbformat_minor": 2
}
