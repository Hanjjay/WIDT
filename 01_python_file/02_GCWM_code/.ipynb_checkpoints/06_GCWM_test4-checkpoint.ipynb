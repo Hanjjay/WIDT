{
 "cells": [
  {
   "cell_type": "code",
   "execution_count": 6,
   "metadata": {},
   "outputs": [],
   "source": [
    "def getdata():\n",
    "    w = int(input(\"몸무게를 입력하시오(kg):\"))\n",
    "    t = float(input(\"\\n키를 입력하시오(m):\"))\n",
    "        \n",
    "    OS = w / (t * t)\n",
    "\n",
    "    if OS <18.5:\n",
    "        return print(\"저체중 입니다\")\n",
    "    elif 18.5 <= OS < 23:\n",
    "        return print(\"정상 입니다\")\n",
    "    elif 23 <= OS < 25:\n",
    "        return print(\"과체중 입니다\")\n",
    "    else:\n",
    "        return print(\"비만 입니다\")\n",
    "\n",
    "        "
   ]
  },
  {
   "cell_type": "code",
   "execution_count": null,
   "metadata": {},
   "outputs": [],
   "source": [
    "getdata()"
   ]
  }
 ],
 "metadata": {
  "kernelspec": {
   "display_name": "Python 3",
   "language": "python",
   "name": "python3"
  },
  "language_info": {
   "codemirror_mode": {
    "name": "ipython",
    "version": 3
   },
   "file_extension": ".py",
   "mimetype": "text/x-python",
   "name": "python",
   "nbconvert_exporter": "python",
   "pygments_lexer": "ipython3",
   "version": "3.7.3"
  }
 },
 "nbformat": 4,
 "nbformat_minor": 2
}
