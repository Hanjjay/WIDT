{
 "cells": [
  {
   "cell_type": "markdown",
   "metadata": {},
   "source": [
    "###### 연습문제 8-13 음식 클래스에 연산 추가하기\n",
    "\n",
    " - 위의 음식 클래스 Food에 크기 비교 연산을 추가해 보아라\n",
    " \n",
    " - 맛이 좋으면 더 큰 것이고, 같은 맛이면 칼로리가 더 적은 것이 더 큰 것이다\n",
    " \n",
    " - 맛과 칼로리가 모두 같으면 두 음식의 크기가 같다\n",
    " \n",
    " - 클래스를 정의한 후 그 아래에 다음 코드를 입력하여 잘 실행되는지 확인해 보아라\n",
    "\n",
    "```\n",
    "strawberry = Food(9, 32)\n",
    "potato = Food(6, 66)\n",
    "sweet_potato = Food(12, 131)\n",
    "pizza = Food(13, 266)\n",
    "print('딸기 < 감자: ', strawberry < potato)\n",
    "print('감자 + 감자 < 고구마: ', potato + potato < sweet_potato)\n",
    "print('피자 >= 딸기: ', pizza >= strawberry)\n",
    "print('피자 >= 피자: ', pizza >= strawberry)\n",
    "print('감자 + 딸기 < 피자: ', potato + strawberry < pizza)\n",
    "print('딸기 == 딸기: ', potato == potato)\n",
    "```\n",
    "\n",
    " - 이 프로그램의 올바른 실행 결과는 다음과 같다.\n",
    "\n",
    "```\n",
    "딸기 < 감자:  False\n",
    "감자 + 감자 < 고구마:  True\n",
    "피자 >= 딸기:  True\n",
    "피자 >= 피자:  True\n",
    "감자 + 딸기 < 피자:  False\n",
    "딸기 == 딸기:  True\n",
    "```"
   ]
  },
  {
   "cell_type": "code",
   "execution_count": 13,
   "metadata": {},
   "outputs": [],
   "source": [
    "class Food(object):\n",
    "    \n",
    "    taste = 0\n",
    "    cal = 0\n",
    "    \n",
    "    def __init__(self,food_taste,food_cal):\n",
    "        \n",
    "        self.taste = food_taste\n",
    "        self.cal = food_cal\n",
    "    \n",
    "    def __lt__(self,other):\n",
    "        \n",
    "        if self.taste == other.taste:\n",
    "            if self.cal < other.cal:\n",
    "                return True\n",
    "            else:\n",
    "                return False\n",
    "            \n",
    "            \n",
    "        else:\n",
    "            if self.taste < other.taste:\n",
    "                return True\n",
    "            else:\n",
    "                return False\n",
    "            \n",
    "            \n",
    "            \n",
    "        "
   ]
  },
  {
   "cell_type": "code",
   "execution_count": 16,
   "metadata": {},
   "outputs": [
    {
     "name": "stdout",
     "output_type": "stream",
     "text": [
      "딸기 < 감자:  False\n"
     ]
    }
   ],
   "source": [
    "strawberry = Food(9, 32)\n",
    "potato = Food(6, 66)\n",
    "sweet_potato = Food(12, 131)\n",
    "pizza = Food(13, 266)\n",
    "print('딸기 < 감자: ', sweet_potato < strawberry)"
   ]
  },
  {
   "cell_type": "code",
   "execution_count": null,
   "metadata": {},
   "outputs": [],
   "source": []
  },
  {
   "cell_type": "code",
   "execution_count": null,
   "metadata": {},
   "outputs": [],
   "source": []
  }
 ],
 "metadata": {
  "kernelspec": {
   "display_name": "Python 3",
   "language": "python",
   "name": "python3"
  },
  "language_info": {
   "codemirror_mode": {
    "name": "ipython",
    "version": 3
   },
   "file_extension": ".py",
   "mimetype": "text/x-python",
   "name": "python",
   "nbconvert_exporter": "python",
   "pygments_lexer": "ipython3",
   "version": "3.7.3"
  }
 },
 "nbformat": 4,
 "nbformat_minor": 2
}
