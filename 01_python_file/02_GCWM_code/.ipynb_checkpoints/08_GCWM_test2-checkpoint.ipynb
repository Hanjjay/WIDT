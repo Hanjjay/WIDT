{
 "cells": [
  {
   "cell_type": "markdown",
   "metadata": {},
   "source": [
    "##### 연습문제 7-4 국가별 행복도 출력하기\n",
    "\n",
    " - 다음은 몇몇 국가의 행복도를 나타낸 사전이다.\n",
    "\n",
    "```\n",
    "happiness = {\n",
    "    '호주': 7.95,\n",
    "    '노르웨이': 7.9,\n",
    "    '미국': 7.85,\n",
    "    '일본': 6.2,\n",
    "    '한국': 5.75,\n",
    "}\n",
    "```\n",
    "\n",
    " - 이 사전을 순회하며 다음과 같은 텍스트를 화면에 출력해 보아라.\n",
    "\n",
    " > 호주 사람들은 7.95 만큼 행복합니다.\n",
    " >\n",
    " > 노르웨이 사람들은 7.9 만큼 행복합니다.\n",
    " >\n",
    " > 미국 사람들은 7.85 만큼 행복합니다.\n",
    " >\n",
    " > 일본 사람들은 6.2 만큼 행복합니다.\n",
    " >\n",
    " > 한국 사람들은 5.75 만큼 행복합니다."
   ]
  },
  {
   "cell_type": "code",
   "execution_count": 16,
   "metadata": {},
   "outputs": [],
   "source": [
    "happiness = {\n",
    "    '호주': 7.95,\n",
    "    '노르웨이': 7.9,\n",
    "    '미국': 7.85,\n",
    "    '일본': 6.2,\n",
    "    '한국': 5.75,\n",
    "}"
   ]
  },
  {
   "cell_type": "code",
   "execution_count": 24,
   "metadata": {},
   "outputs": [
    {
     "name": "stdout",
     "output_type": "stream",
     "text": [
      "호주 사람들은 7.95 만큼 행복합니다\n",
      "노르웨이 사람들은 7.90 만큼 행복합니다\n",
      "미국 사람들은 7.85 만큼 행복합니다\n",
      "일본 사람들은 6.20 만큼 행복합니다\n",
      "한국 사람들은 5.75 만큼 행복합니다\n"
     ]
    }
   ],
   "source": [
    "for i in happiness:\n",
    "    print('%s 사람들은 %0.2f 만큼 행복합니다'%(i,happiness[i]))"
   ]
  }
 ],
 "metadata": {
  "kernelspec": {
   "display_name": "Python 3",
   "language": "python",
   "name": "python3"
  },
  "language_info": {
   "codemirror_mode": {
    "name": "ipython",
    "version": 3
   },
   "file_extension": ".py",
   "mimetype": "text/x-python",
   "name": "python",
   "nbconvert_exporter": "python",
   "pygments_lexer": "ipython3",
   "version": "3.7.3"
  }
 },
 "nbformat": 4,
 "nbformat_minor": 2
}
