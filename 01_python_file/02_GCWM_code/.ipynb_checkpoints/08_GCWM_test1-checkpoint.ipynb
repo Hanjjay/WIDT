{
 "cells": [
  {
   "cell_type": "markdown",
   "metadata": {},
   "source": [
    "###### 연습문제 8-1 체스말, 바둑돌 정의하기\n",
    "\n",
    " - 다음은 사전을 이용해 체스말과 바둑돌 데이터를 나타낸 예\n",
    " \n",
    " - 체스 말 데이터에서 ‘x’, ‘y’가 위치, ‘color’가 색, ‘role’이 역할을 나타낸다. \n",
    " \n",
    " - 바둑돌 데이터에서는 ‘x’, ‘y’가 돌의 위치, ‘order’가 몇 수째에 둔 것인지를 뜻하는 수, ‘color’가 돌의 색을 나타낸다.\n",
    " \n",
    "\n",
    "```\n",
    "# 이곳에 체스말 데이터 유형 정의하기\n",
    "체스말1 = {'x': 'A', 'y': '8', 'color': 'black', 'role': '룩'}\n",
    "체스말2 = {'x': 'E', 'y': '1', 'color': 'white', 'role': '킹'}\n",
    "\n",
    "# 이곳에 바둑돌 데이터 유형 정의하기\n",
    "바둑돌1 = {'x': 8, 'y': 14, 'order': 83, 'color': '흑'}\n",
    "바둑돌2 = {'x': 12, 'y': 3, 'order': 84, 'color': '백'}\n",
    "```"
   ]
  },
  {
   "cell_type": "code",
   "execution_count": null,
   "metadata": {},
   "outputs": [],
   "source": [
    "#체스말의 위치, 색상 ,체스말의, 걔급을 ,나타내는 사전 형식의 자료\n",
    "체스말1 = {'x': 'A', 'y': '8', 'color': 'black', 'role': '룩'}\n",
    "체스말2 = {'x': 'E', 'y': '1', 'color': 'white', 'role': '킹'}\n",
    "\n",
    "#체스말의 위치 ,몇수에 둔 수인지, 색상 을 나타내는 사전 형식의 자료\n",
    "바둑돌1 = {'x': 8, 'y': 14, 'order': 83, 'color': '흑'}\n",
    "바둑돌2 = {'x': 12, 'y': 3, 'order': 84, 'color': '백'}"
   ]
  }
 ],
 "metadata": {
  "kernelspec": {
   "display_name": "Python 3",
   "language": "python",
   "name": "python3"
  },
  "language_info": {
   "codemirror_mode": {
    "name": "ipython",
    "version": 3
   },
   "file_extension": ".py",
   "mimetype": "text/x-python",
   "name": "python",
   "nbconvert_exporter": "python",
   "pygments_lexer": "ipython3",
   "version": "3.7.3"
  }
 },
 "nbformat": 4,
 "nbformat_minor": 2
}
