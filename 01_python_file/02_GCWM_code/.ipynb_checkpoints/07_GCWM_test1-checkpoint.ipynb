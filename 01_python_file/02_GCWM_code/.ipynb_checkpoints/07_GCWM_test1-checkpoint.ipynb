{
 "cells": [
  {
   "cell_type": "code",
   "execution_count": 3,
   "metadata": {},
   "outputs": [],
   "source": [
    "\n",
    "kr_area_weather_20190901= [\n",
    "    {'지역':'경기','날씨':'맑음','기온':'27.2','습도':'0.4','강수확률':'0.1'},\n",
    "    {'지역':'강원','날씨':'맑음','기온':'23.6','습도':'0.6','강수확률':'0.1'},\n",
    "    {'지역':'충천','날씨':'맑음','기온':'24.4','습도':'0.35','강수확률':'0.1'},\n",
    "    {'지역':'경상','날씨':'맑음','기온':'26','습도':'0.55','강수확률':'0.1'},\n",
    "    {'지역':'전라','닐씨':'맑음','기온':'27','습도':'0.4','강수확률':'0'},\n",
    "    {'지역':'제주','날씨':'구름조금','기온':'26.4','습도':'0.45','강수확률':'0.1'}\n",
    "]\n"
   ]
  },
  {
   "cell_type": "code",
   "execution_count": null,
   "metadata": {},
   "outputs": [],
   "source": []
  }
 ],
 "metadata": {
  "kernelspec": {
   "display_name": "Python 3",
   "language": "python",
   "name": "python3"
  },
  "language_info": {
   "codemirror_mode": {
    "name": "ipython",
    "version": 3
   },
   "file_extension": ".py",
   "mimetype": "text/x-python",
   "name": "python",
   "nbconvert_exporter": "python",
   "pygments_lexer": "ipython3",
   "version": "3.7.3"
  }
 },
 "nbformat": 4,
 "nbformat_minor": 2
}
