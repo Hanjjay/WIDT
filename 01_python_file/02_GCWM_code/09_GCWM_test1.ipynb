{
 "cells": [
  {
   "cell_type": "code",
   "execution_count": 2,
   "metadata": {},
   "outputs": [],
   "source": [
    "#위치,색상,역할\n",
    "체스말1 = {'x': 'A', 'y': '8', 'color': 'black', 'role': '룩'}\n",
    "체스말2 = {'x': 'E', 'y': '1', 'color': 'white', 'role': '킹'}\n",
    "\n",
    "#좌표,몇번째 수인지,색상\n",
    "바둑돌1 = {'x': 8, 'y': 14, 'order': 83, 'color': '흑'}\n",
    "바둑돌2 = {'x': 12, 'y': 3, 'order': 84, 'color': '백'}"
   ]
  },
  {
   "cell_type": "markdown",
   "metadata": {},
   "source": [
    "###### 연습문제 8-2 체스말, 바둑돌 출력하기\n",
    "\n",
    " - 연습문제 8-1에서 정의한 체스말 또는 바둑돌 데이터를 전달받아 화면에 출력하는 함수 print_piece()를 정의해라. \n",
    " \n",
    " - 이 함수는 전달받은 데이터가 체스말인지, 바둑돌인지를 식별해 각각 다른 방식으로 출력해야 한다. \n",
    " \n",
    " - 다음은 이 함수를 실행한 예다.\n",
    "\n",
    "```\n",
    ">>> print_piece(체스말1)\n",
    "black 룩이 A8 위치에 놓여 있어요.\n",
    "\n",
    ">>> print_piece(바둑돌2)\n",
    "제 84 수: 백이 (12, 3) 위치에 두었습니다.\n",
    "```"
   ]
  },
  {
   "cell_type": "code",
   "execution_count": 4,
   "metadata": {},
   "outputs": [
    {
     "name": "stdout",
     "output_type": "stream",
     "text": [
      "제 83수: 흑이 (8, 14) 위치에 두었습니다.\n",
      "제 84수: 백이 (12, 3) 위치에 두었습니다.\n",
      "black 룩이 A8 위치에 놓여있어요.\n",
      "white 킹이 E1 위치에 놓여있어요.\n"
     ]
    }
   ],
   "source": [
    "def print_piece(piece):\n",
    "    \n",
    "    if 'role' in piece:\n",
    "        print('%s %s이 %s%s 위치에 놓여있어요.'%(piece['color'],piece['role'],piece['x'],piece['y']))\n",
    "    \n",
    "    \n",
    "    elif 'order' in piece:\n",
    "        print('제 %d수: %s이 (%d, %d) 위치에 두었습니다.'%(piece['order'],piece['color'],piece['x'],piece['y']))\n",
    "        \n",
    "    else:\n",
    "        print('체스말 또는 바둑돌을 입력해 주세요')\n",
    "    \n",
    "    \n",
    "print_piece(바둑돌1)\n",
    "print_piece(바둑돌2)\n",
    "\n",
    "print_piece(체스말1)\n",
    "print_piece(체스말2)"
   ]
  },
  {
   "cell_type": "code",
   "execution_count": null,
   "metadata": {},
   "outputs": [],
   "source": []
  }
 ],
 "metadata": {
  "kernelspec": {
   "display_name": "Python 3",
   "language": "python",
   "name": "python3"
  },
  "language_info": {
   "codemirror_mode": {
    "name": "ipython",
    "version": 3
   },
   "file_extension": ".py",
   "mimetype": "text/x-python",
   "name": "python",
   "nbconvert_exporter": "python",
   "pygments_lexer": "ipython3",
   "version": "3.7.3"
  }
 },
 "nbformat": 4,
 "nbformat_minor": 2
}
