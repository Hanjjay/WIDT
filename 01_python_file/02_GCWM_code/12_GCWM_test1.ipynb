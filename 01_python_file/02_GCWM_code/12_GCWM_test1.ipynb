{
 "cells": [
  {
   "cell_type": "markdown",
   "metadata": {},
   "source": [
    "###### 연습문제 11-5 CSV 파일 읽어들이기\n",
    "\n",
    " - 스프레드시트 또는 텍스트 편집기를 이용해 다음 표의 내용을 CSV 파일로 작성해라.\n",
    "\n",
    "|country\t|population\t|area\n",
    "|---|:---:|---:|\n",
    "|South Korea|\t48422644|\t98480\n",
    "|China\t|1330044000\t|9596960\n",
    "|Japan\t|127288000\t|377835\n",
    "|United States\t|310232863\t|9629091\n",
    "|Russia\t|140702000\t|17100000\n",
    "\n",
    " - 이 CSV 파일을 읽어들이고 각 나라의 인구밀도를 구해 인구밀도가 높은 나라부터 낮은 나라 순으로 나라 이름과 인구밀도를 출력하는 프로그램을 작성해라."
   ]
  },
  {
   "cell_type": "code",
   "execution_count": 1,
   "metadata": {},
   "outputs": [],
   "source": [
    "import csv\n",
    "import pprint"
   ]
  },
  {
   "cell_type": "code",
   "execution_count": 75,
   "metadata": {},
   "outputs": [],
   "source": [
    "def alignment_file(file_for_alignment):\n",
    "    \n",
    "    country_population_density_result = []\n",
    "    population_density_result = []\n",
    "    last_result = []\n",
    "    \n",
    "    \n",
    "    with open(file_for_alignment, 'r') as file:\n",
    "        reader = csv.reader(file)  # CSV 파일을 읽어들이는 읽기 객체\n",
    "        data = list(reader)\n",
    "        \n",
    "        for i in data[1:]:\n",
    "            country_population_density_result.append((i[0], int(i[1])/int(i[2])))\n",
    "            \n",
    "    for k in country_population_density_result:\n",
    "        population_density_result.append(k[1])\n",
    "        \n",
    "    list_result = sorted(population_density_result,reverse=True)\n",
    "    \n",
    "    for m in list_result:\n",
    "        for i in country_population_density_result:\n",
    "            if m == i[1]:\n",
    "                last_result.append(i)\n",
    "            else:\n",
    "                pass\n",
    "                \n",
    "            \n",
    "    #\n",
    "    print(last_result)"
   ]
  },
  {
   "cell_type": "code",
   "execution_count": 76,
   "metadata": {},
   "outputs": [
    {
     "name": "stdout",
     "output_type": "stream",
     "text": [
      "[('South Korea', 491.7002843216897), ('Japan', 336.88779493694335), ('China', 138.5901368766776), ('United States', 32.218291736987425), ('Russia', 8.228187134502924)]\n"
     ]
    }
   ],
   "source": [
    "alignment_file('country.csv')"
   ]
  },
  {
   "cell_type": "code",
   "execution_count": 27,
   "metadata": {},
   "outputs": [],
   "source": [
    "data = [\n",
    " ['country', 'population', 'area'],\n",
    " ['South Korea', '48422644', '98480'],\n",
    " ['China', '1330044000', '9596960'],\n",
    " ['Japan', '127288000', '377835'],\n",
    " ['United States', '310232863', '9629091'],\n",
    " ['Russia', '140702000', '17100000']\n",
    "       ]\n"
   ]
  },
  {
   "cell_type": "code",
   "execution_count": 28,
   "metadata": {},
   "outputs": [
    {
     "data": {
      "text/plain": [
       "True"
      ]
     },
     "execution_count": 28,
     "metadata": {},
     "output_type": "execute_result"
    }
   ],
   "source": [
    "type(data[0][1]) == str"
   ]
  },
  {
   "cell_type": "code",
   "execution_count": 57,
   "metadata": {},
   "outputs": [
    {
     "name": "stdout",
     "output_type": "stream",
     "text": [
      "South Korea\n",
      "China\n",
      "Japan\n",
      "United States\n",
      "Russia\n"
     ]
    }
   ],
   "source": [
    "result = []\n",
    "\n",
    "for i in data[1:]:\n",
    "    print(i[0])\n",
    "\n"
   ]
  },
  {
   "cell_type": "code",
   "execution_count": 24,
   "metadata": {},
   "outputs": [],
   "source": [
    "with open('country.csv', 'r') as file:\n",
    "    reader = csv.reader(file)  # CSV 파일을 읽어들이는 읽기 객체\n",
    "    data = list(reader)\n"
   ]
  },
  {
   "cell_type": "code",
   "execution_count": 25,
   "metadata": {},
   "outputs": [
    {
     "data": {
      "text/plain": [
       "[['country', 'population', 'area'],\n",
       " ['South Korea', '48422644', '98480'],\n",
       " ['China', '1330044000', '9596960'],\n",
       " ['Japan', '127288000', '377835'],\n",
       " ['United States', '310232863', '9629091'],\n",
       " ['Russia', '140702000', '17100000']]"
      ]
     },
     "execution_count": 25,
     "metadata": {},
     "output_type": "execute_result"
    }
   ],
   "source": [
    "data"
   ]
  },
  {
   "cell_type": "code",
   "execution_count": 47,
   "metadata": {},
   "outputs": [
    {
     "data": {
      "text/plain": [
       "123"
      ]
     },
     "execution_count": 47,
     "metadata": {},
     "output_type": "execute_result"
    }
   ],
   "source": [
    "int('123')"
   ]
  },
  {
   "cell_type": "code",
   "execution_count": null,
   "metadata": {},
   "outputs": [],
   "source": []
  }
 ],
 "metadata": {
  "kernelspec": {
   "display_name": "Python 3",
   "language": "python",
   "name": "python3"
  },
  "language_info": {
   "codemirror_mode": {
    "name": "ipython",
    "version": 3
   },
   "file_extension": ".py",
   "mimetype": "text/x-python",
   "name": "python",
   "nbconvert_exporter": "python",
   "pygments_lexer": "ipython3",
   "version": "3.7.3"
  }
 },
 "nbformat": 4,
 "nbformat_minor": 2
}
