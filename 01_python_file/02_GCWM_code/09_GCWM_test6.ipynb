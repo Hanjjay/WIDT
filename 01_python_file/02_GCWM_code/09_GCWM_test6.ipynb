{
 "cells": [
  {
   "cell_type": "markdown",
   "metadata": {},
   "source": [
    "###### 연습문제 8-9 좌표 인스턴스 초기화하기\n",
    "\n",
    " - 연습문제 8-8에서 정의한 Coordinate 클래스를 새로 정의하여, 인스턴스화 과정에서 속성 x와 속성 y를 초기화할 수 있도록 해보자\n",
    " \n",
    " - 인스턴스화할 때 초기값을 전달되지 않은 경우에는 기본값 0으로 초기화되도록하자\n",
    "\n",
    " - 다음은 클래스를 새로 정의한 후에 인스턴스화를 수행하고 테스트하는 예다\n",
    "\n",
    "```\n",
    ">>> point_1 = Coordinate(-1, 2)\n",
    ">>> point_2 = Coordinate(y=3, x=2)\n",
    ">>> point_3 = Coordinate()\n",
    ">>> point_4 = Coordinate(10)\n",
    ">>> point_1.x, point_1.y\n",
    "(-1, 2)\n",
    "\n",
    ">>> point_2.x, point_2.y\n",
    "(2, 3)\n",
    "\n",
    ">>> point_3.x, point_3.y\n",
    "(0, 0)\n",
    "\n",
    ">>> point_4.x, point_4.y\n",
    "(10, 0)\n",
    "\n",
    ">>> point_1.distance(point_2)\n",
    "3.1622776601683795\n",
    "```"
   ]
  },
  {
   "cell_type": "code",
   "execution_count": 35,
   "metadata": {},
   "outputs": [],
   "source": [
    "import math\n",
    "class Coordinate(object):\n",
    "    \n",
    "    x=0\n",
    "    y=0\n",
    "    \n",
    "    def __init__(self,x=0,y=0):\n",
    "\n",
    "\n",
    "        self.x = x\n",
    "        self.y = y\n",
    "        \n",
    "    def square(x):\n",
    "        return x*x\n",
    "    \n",
    "    def distance(self,point_B):\n",
    "        return math.sqrt(square(self.x - point_B.x) + square(self.y - point_B.y))"
   ]
  },
  {
   "cell_type": "code",
   "execution_count": 38,
   "metadata": {},
   "outputs": [],
   "source": [
    "point_1 = Coordinate()"
   ]
  },
  {
   "cell_type": "code",
   "execution_count": 39,
   "metadata": {},
   "outputs": [
    {
     "data": {
      "text/plain": [
       "(0, 0)"
      ]
     },
     "execution_count": 39,
     "metadata": {},
     "output_type": "execute_result"
    }
   ],
   "source": [
    "point_1.x,point_1.y"
   ]
  },
  {
   "cell_type": "code",
   "execution_count": 40,
   "metadata": {},
   "outputs": [],
   "source": [
    "point_2 = Coordinate(y=3, x=2)"
   ]
  },
  {
   "cell_type": "code",
   "execution_count": 41,
   "metadata": {},
   "outputs": [
    {
     "data": {
      "text/plain": [
       "(2, 3)"
      ]
     },
     "execution_count": 41,
     "metadata": {},
     "output_type": "execute_result"
    }
   ],
   "source": [
    "point_2.x ,point_2.y"
   ]
  },
  {
   "cell_type": "code",
   "execution_count": 42,
   "metadata": {},
   "outputs": [],
   "source": [
    "point_4 = Coordinate(10)"
   ]
  },
  {
   "cell_type": "code",
   "execution_count": 44,
   "metadata": {},
   "outputs": [
    {
     "data": {
      "text/plain": [
       "(10, 0)"
      ]
     },
     "execution_count": 44,
     "metadata": {},
     "output_type": "execute_result"
    }
   ],
   "source": [
    "point_4.x,point_4.y"
   ]
  },
  {
   "cell_type": "code",
   "execution_count": null,
   "metadata": {},
   "outputs": [],
   "source": []
  }
 ],
 "metadata": {
  "kernelspec": {
   "display_name": "Python 3",
   "language": "python",
   "name": "python3"
  },
  "language_info": {
   "codemirror_mode": {
    "name": "ipython",
    "version": 3
   },
   "file_extension": ".py",
   "mimetype": "text/x-python",
   "name": "python",
   "nbconvert_exporter": "python",
   "pygments_lexer": "ipython3",
   "version": "3.7.3"
  }
 },
 "nbformat": 4,
 "nbformat_minor": 2
}
