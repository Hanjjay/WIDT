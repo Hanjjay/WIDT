{
 "cells": [
  {
   "cell_type": "code",
   "execution_count": 21,
   "metadata": {},
   "outputs": [
    {
     "name": "stdout",
     "output_type": "stream",
     "text": [
      "False\n",
      "False\n",
      "False\n"
     ]
    }
   ],
   "source": [
    "def is_prime(num):\n",
    "    divide_value = 2\n",
    "    if divide_value == num: return True\n",
    "    if num == 1: return False\n",
    "    \n",
    "    \n",
    "    while divide_value != num-1:\n",
    "        if num % divide_value == 0:\n",
    "            return False\n",
    "        else : divide_value +=1\n",
    "    \n",
    "    \n",
    "    return True\n",
    "\n",
    "print(is_prime(15))\n",
    "print(is_prime(0))\n",
    "print(is_prime(1))\n",
    "    #retrun 값은 true or flase"
   ]
  },
  {
   "cell_type": "code",
   "execution_count": 22,
   "metadata": {},
   "outputs": [],
   "source": [
    "result = 0\n",
    "for i in range(1,100):\n",
    "    if is_prime(i) == True:\n",
    "        result += i"
   ]
  },
  {
   "cell_type": "code",
   "execution_count": 23,
   "metadata": {},
   "outputs": [
    {
     "data": {
      "text/plain": [
       "1060"
      ]
     },
     "execution_count": 23,
     "metadata": {},
     "output_type": "execute_result"
    }
   ],
   "source": [
    "result"
   ]
  },
  {
   "cell_type": "code",
   "execution_count": null,
   "metadata": {},
   "outputs": [],
   "source": []
  }
 ],
 "metadata": {
  "kernelspec": {
   "display_name": "Python 3",
   "language": "python",
   "name": "python3"
  },
  "language_info": {
   "codemirror_mode": {
    "name": "ipython",
    "version": 3
   },
   "file_extension": ".py",
   "mimetype": "text/x-python",
   "name": "python",
   "nbconvert_exporter": "python",
   "pygments_lexer": "ipython3",
   "version": "3.7.3"
  }
 },
 "nbformat": 4,
 "nbformat_minor": 2
}
