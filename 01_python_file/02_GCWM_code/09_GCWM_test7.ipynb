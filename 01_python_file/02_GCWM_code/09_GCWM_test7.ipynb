{
 "cells": [
  {
   "cell_type": "markdown",
   "metadata": {},
   "source": [
    "###### 연습문제 8-10 도형 클래스 정의하기 1\n",
    "\n",
    " - 다음 요구사항을 참고해 도형(Shape), 삼각형(Triangle), 사각형(Rectangle)을 나타내는 클래스를 정의하여라.\n",
    "\n",
    " > 1. Shape: 도형을 나타내는 클래스\n",
    " >\n",
    " >     - 클래스 메서드 describe(): “이 도형은 3 개의 변을 갖고 있습니다.”와 같이 이 도형의 특징을 화면에 출력한다. 변의 개수는 self.sides 속성을 읽어 구한다.\n",
    " >\n",
    " > 2. Triangle: 삼각형을 나타내는 클래스\n",
    " >\n",
    " >     - Shape 클래스를 상속\n",
    " >\n",
    " >     - 클래스 속성 sides: 변의 개수를 나타내는 속성. 3으로 고정\n",
    " >\n",
    " > 3. Rectangle: 사각형을 나타내는 클래스\n",
    " >\n",
    " >     - Shape 클래스를 상속\n",
    " >\n",
    " >     - 클래스 속성 sides: 변의 개수를 나타내는 속성. 4로 고정\n",
    "\n",
    " - 클래스를 정의한 후에는 프로그램 하단에 도형의 인스턴스를 만들어 특징을 출력하는 다음 코드를 삽입하여라.\n",
    "\n",
    "```\n",
    "shapes = [\n",
    "    Triangle(),\n",
    "    Rectangle(),\n",
    "]\n",
    "for shape in shapes:\n",
    "    shape.describe()\n",
    "```    \n",
    "\n",
    " - 프로그램을 실행한 결과는 다음과 같아야 한다.\n",
    "\n",
    "```\n",
    "이 도형은 3 개의 변을 갖고 있습니다.\n",
    "이 도형은 4 개의 변을 갖고 있습니다.\n",
    "```"
   ]
  },
  {
   "cell_type": "code",
   "execution_count": 11,
   "metadata": {},
   "outputs": [],
   "source": [
    "class Shape(object):\n",
    "    \n",
    "    sides = 0\n",
    "    \n",
    "    def descrobe(self):\n",
    "        \n",
    "        print(\"이 도형은 %d 개의 변을 갖고 있습니다.\"%(self.sides))\n",
    "        "
   ]
  },
  {
   "cell_type": "code",
   "execution_count": 12,
   "metadata": {},
   "outputs": [],
   "source": [
    "a = Shape()"
   ]
  },
  {
   "cell_type": "code",
   "execution_count": 19,
   "metadata": {},
   "outputs": [
    {
     "name": "stdout",
     "output_type": "stream",
     "text": [
      "이 도형은 24 개의 변을 갖고 있습니다.\n"
     ]
    }
   ],
   "source": [
    "a.sides = 24\n",
    "a.descrobe()"
   ]
  },
  {
   "cell_type": "code",
   "execution_count": 33,
   "metadata": {},
   "outputs": [],
   "source": [
    "class Coordinate(object):\n",
    "    x = 0\n",
    "    y = 0\n",
    "    \n",
    "    def square(x):\n",
    "        return x*x\n",
    "    \n",
    "    def distance(self,point_B):\n",
    "        return math.sqrt(square(self.x - point_B.x) + square(self.y - point_B.y))"
   ]
  },
  {
   "cell_type": "code",
   "execution_count": 34,
   "metadata": {},
   "outputs": [],
   "source": [
    "class Triangle(Shape):\n",
    "    \n",
    "    sides = 3\n",
    "    point_A = "
   ]
  },
  {
   "cell_type": "code",
   "execution_count": 24,
   "metadata": {},
   "outputs": [],
   "source": [
    "class Rectangle(Shape):\n",
    "    sides = 4"
   ]
  },
  {
   "cell_type": "code",
   "execution_count": 25,
   "metadata": {},
   "outputs": [],
   "source": [
    "r =Rectangle()"
   ]
  },
  {
   "cell_type": "code",
   "execution_count": 26,
   "metadata": {},
   "outputs": [
    {
     "data": {
      "text/plain": [
       "4"
      ]
     },
     "execution_count": 26,
     "metadata": {},
     "output_type": "execute_result"
    }
   ],
   "source": [
    "r.sides"
   ]
  },
  {
   "cell_type": "code",
   "execution_count": 27,
   "metadata": {},
   "outputs": [
    {
     "name": "stdout",
     "output_type": "stream",
     "text": [
      "이 도형은 4 개의 변을 갖고 있습니다.\n"
     ]
    }
   ],
   "source": [
    "r.descrobe()"
   ]
  },
  {
   "cell_type": "code",
   "execution_count": 29,
   "metadata": {},
   "outputs": [
    {
     "name": "stdout",
     "output_type": "stream",
     "text": [
      "이 도형은 3 개의 변을 갖고 있습니다.\n",
      "이 도형은 4 개의 변을 갖고 있습니다.\n"
     ]
    }
   ],
   "source": [
    "shapes = [\n",
    "    Triangle(),\n",
    "    Rectangle(),\n",
    "]\n",
    "for shape in shapes:\n",
    "    shape.descrobe()"
   ]
  },
  {
   "cell_type": "code",
   "execution_count": null,
   "metadata": {},
   "outputs": [],
   "source": []
  }
 ],
 "metadata": {
  "kernelspec": {
   "display_name": "Python 3",
   "language": "python",
   "name": "python3"
  },
  "language_info": {
   "codemirror_mode": {
    "name": "ipython",
    "version": 3
   },
   "file_extension": ".py",
   "mimetype": "text/x-python",
   "name": "python",
   "nbconvert_exporter": "python",
   "pygments_lexer": "ipython3",
   "version": "3.7.3"
  }
 },
 "nbformat": 4,
 "nbformat_minor": 2
}
