{
 "cells": [
  {
   "cell_type": "markdown",
   "metadata": {},
   "source": [
    "###### 연습문제 8-11 도형 클래스 정의하기 2\n",
    "\n",
    " - 아래 사항을 참고해 연습문제 8-10 정의한 도형 클래스에 도형의 각 좌표 속성과 둘레 계산 메서드를 추가하여라\n",
    " \n",
    " - 이 때, Coordinate 클래스는 이전에 정의한 것을 활용하도록 한다.\n",
    "\n",
    " > 1. Triangle 클래스에 추가할 속성\n",
    " >\n",
    " >     - 클래스 메서드 circumference(): 이 삼각형의 둘레를 계산하여 반환한다.\n",
    " >\n",
    " >     - 인스턴스 속성 point_a: 꼭지점 A의 좌표. (Coordinate 유형)\n",
    " >\n",
    " >     - 인스턴스 속성 point_b: 꼭지점 B의 좌표. (Coordinate 유형)\n",
    " >\n",
    " >     - 인스턴스 속성 point_c: 꼭지점 C의 좌표. (Coordinate 유형)\n",
    " >\n",
    " > 2. Rectangle 클래스에 추가할 속성\n",
    " >\n",
    " >     - 클래스 메서드 circumference(): 이 사각형의 둘레를 계산하여 반환한다.\n",
    " >\n",
    " >     - 인스턴스 속성 point_a: 꼭지점 A의 좌표. (Coordinate 유형)\n",
    " >\n",
    " >     - 인스턴스 속성 point_b: 꼭지점 B의 좌표. (Coordinate 유형)\n",
    " >\n",
    " >     - 인스턴스 속성 point_c: 꼭지점 C의 좌표. (Coordinate 유형)\n",
    " >\n",
    " >     - 인스턴스 속성 point_d: 꼭지점 D의 좌표. (Coordinate 유형)\n",
    "\n",
    " - 클래스를 정의한 후에는 프로그램 하단에 도형의 인스턴스를 만들어 특징과 둘레를 출력하는 다음 코드를 삽입하여라.\n",
    "\n",
    "```\n",
    "shapes = [\n",
    "    Triangle(Coordinate(0, 0), Coordinate(3, 0), Coordinate(3, 4)),\n",
    "    Rectangle(Coordinate(2, 2), Coordinate(6, 2), Coordinate(6, 6), Coordinate(2, 6)),\n",
    "]\n",
    "for shape in shapes:\n",
    "    shape.describe()\n",
    "    print('둘레:', shape.circumference())\n",
    "```\n",
    "\n",
    " - 프로그램을 실행한 결과는 다음과 같아야 한다.\n",
    "\n",
    "```\n",
    "이 도형은 3 개의 변을 갖고 있습니다.\n",
    "둘레: 12.0\n",
    "이 도형은 4 개의 변을 갖고 있습니다.\n",
    "둘레: 16.0\n",
    "```\n",
    "\n",
    " - 힌트: Coordinate 클래스의 거리 계산 메서드 distance()를 활용해라.\n",
    "\n",
    " - 힌트: 인스턴스의 속성은 초기화 메서드 __init__()를 이용해 정의해라."
   ]
  },
  {
   "cell_type": "code",
   "execution_count": 3,
   "metadata": {},
   "outputs": [],
   "source": [
    "import math\n",
    "class Coordinate(object):\n",
    "    \n",
    "    x=0\n",
    "    y=0\n",
    "    \n",
    "    def __init__(self,x=0,y=0):\n",
    "        self.x = x\n",
    "        self.y = y\n",
    "        \n",
    "    def square(x):\n",
    "        return x*x\n",
    "    \n",
    "    def distance(self,point_B):\n",
    "        return math.sqrt(Coordinate.square(self.x - point_B.x) + Coordinate.square(self.y - point_B.y))"
   ]
  },
  {
   "cell_type": "code",
   "execution_count": 4,
   "metadata": {},
   "outputs": [],
   "source": [
    "class Shape(object):\n",
    "    \n",
    "    sides = 0\n",
    "    \n",
    "    def descrobe(self):\n",
    "        \n",
    "        print(\"이 도형은 %d 개의 변을 갖고 있습니다.\"%(self.sides))\n",
    "        "
   ]
  },
  {
   "cell_type": "code",
   "execution_count": 5,
   "metadata": {},
   "outputs": [],
   "source": [
    "class Triangle(Shape):\n",
    "    \n",
    "    sides = 3\n",
    "    \n",
    "    #트라이앵글의 속성들 인데 코디네이트타입의 인스턴스\n",
    "    point_A = Coordinate()\n",
    "    point_B = Coordinate()\n",
    "    point_C = Coordinate()\n",
    "    \n",
    "    def __init__(self , p_A = Coordinate() ,p_B = Coordinate(), p_C = Coordinate()):\n",
    "        \n",
    "        self.point_A = p_A\n",
    "        self.point_B = p_B\n",
    "        self.point_C = p_C\n",
    "        \n",
    "    \n",
    "    def circumference(self):\n",
    "        return self.point_A.distance(self.point_B) + self.point_B.distance(self.point_C) + self.point_C.distance(self.point_A)"
   ]
  },
  {
   "cell_type": "code",
   "execution_count": 13,
   "metadata": {},
   "outputs": [],
   "source": [
    "class Rectangle(Shape):\n",
    "    sides = 4\n",
    "    \n",
    "    point_A = Coordinate()\n",
    "    point_B = Coordinate()\n",
    "    point_C = Coordinate()\n",
    "    point_D = Coordinate()\n",
    "    \n",
    "    def __init__(self, p_A = Coordinate(),p_B = Coordinate(),p_C = Coordinate(), p_D = Coordinate()):\n",
    "        \n",
    "        self.point_A = p_A\n",
    "        self.point_B = p_B\n",
    "        self.point_C = p_C\n",
    "        self.point_D = p_D\n",
    "        \n",
    "        \n",
    "    def circumference(self):\n",
    "        return self.point_A.distance(self.point_B) + self.point_B.distance(self.point_C) + self.point_C.distance(self.point_D)+self.point_D.distance(self.point_A)"
   ]
  },
  {
   "cell_type": "code",
   "execution_count": 14,
   "metadata": {},
   "outputs": [],
   "source": [
    "t = Triangle(Coordinate(0, 0), Coordinate(3, 0), Coordinate(3, 4))"
   ]
  },
  {
   "cell_type": "code",
   "execution_count": 15,
   "metadata": {},
   "outputs": [
    {
     "data": {
      "text/plain": [
       "12.0"
      ]
     },
     "execution_count": 15,
     "metadata": {},
     "output_type": "execute_result"
    }
   ],
   "source": [
    "t.circumference()"
   ]
  },
  {
   "cell_type": "code",
   "execution_count": 18,
   "metadata": {},
   "outputs": [],
   "source": [
    "R =Rectangle(Coordinate(0,0),Coordinate(3,0),Coordinate(3,3),Coordinate(0,3))"
   ]
  },
  {
   "cell_type": "code",
   "execution_count": 19,
   "metadata": {},
   "outputs": [
    {
     "data": {
      "text/plain": [
       "12.0"
      ]
     },
     "execution_count": 19,
     "metadata": {},
     "output_type": "execute_result"
    }
   ],
   "source": [
    "R.circumference()"
   ]
  },
  {
   "cell_type": "code",
   "execution_count": null,
   "metadata": {},
   "outputs": [],
   "source": []
  }
 ],
 "metadata": {
  "kernelspec": {
   "display_name": "Python 3",
   "language": "python",
   "name": "python3"
  },
  "language_info": {
   "codemirror_mode": {
    "name": "ipython",
    "version": 3
   },
   "file_extension": ".py",
   "mimetype": "text/x-python",
   "name": "python",
   "nbconvert_exporter": "python",
   "pygments_lexer": "ipython3",
   "version": "3.7.3"
  }
 },
 "nbformat": 4,
 "nbformat_minor": 2
}
