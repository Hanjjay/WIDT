{
 "cells": [
  {
   "cell_type": "markdown",
   "metadata": {},
   "source": [
    " ##### 연습문제 7-6 두 시퀀스의 요소 합하기\n",
    "\n",
    " - 두 시퀀스의 요소를 합하는 함수 plus_elements()를 정의하여라. \n",
    " \n",
    " - 이 함수는 두 개의 시퀀스를 전달받은 후 각 요소를 순서대로 합한 리스트를 반환한다. \n",
    " \n",
    " - 예를 들어, (1, 2, 3)과 [4, 5, 6]을 전달받은 경우 [5, 7, 9]를 반환한다."
   ]
  },
  {
   "cell_type": "code",
   "execution_count": 71,
   "metadata": {},
   "outputs": [],
   "source": [
    "list_1 = [1,2,3]\n",
    "list_2 = [4,5,6]"
   ]
  },
  {
   "cell_type": "code",
   "execution_count": 72,
   "metadata": {},
   "outputs": [
    {
     "data": {
      "text/plain": [
       "[5, 7, 9]"
      ]
     },
     "execution_count": 72,
     "metadata": {},
     "output_type": "execute_result"
    }
   ],
   "source": [
    "def plust_elements(list_A,list_B):\n",
    "    result =[]\n",
    "    get_list =list(zip(list_A,list_B))\n",
    "    \n",
    "    \n",
    "\n",
    "    \n",
    "    for i in range(len(get_list)):\n",
    "        \n",
    "        result.append(get_list[i][0]+get_list[i][1])\n",
    "    \n",
    "    return result\n",
    "\n",
    "plust_elements(list_1,list_2)"
   ]
  },
  {
   "cell_type": "code",
   "execution_count": 73,
   "metadata": {},
   "outputs": [],
   "source": [
    "list_3 =[43,234,12,2,3,4]\n",
    "list_4 =[7,6,8,7]"
   ]
  },
  {
   "cell_type": "code",
   "execution_count": 74,
   "metadata": {},
   "outputs": [
    {
     "data": {
      "text/plain": [
       "[50, 240, 20, 9]"
      ]
     },
     "execution_count": 74,
     "metadata": {},
     "output_type": "execute_result"
    }
   ],
   "source": [
    "plust_elements(list_3,list_4)"
   ]
  }
 ],
 "metadata": {
  "kernelspec": {
   "display_name": "Python 3",
   "language": "python",
   "name": "python3"
  },
  "language_info": {
   "codemirror_mode": {
    "name": "ipython",
    "version": 3
   },
   "file_extension": ".py",
   "mimetype": "text/x-python",
   "name": "python",
   "nbconvert_exporter": "python",
   "pygments_lexer": "ipython3",
   "version": "3.7.3"
  }
 },
 "nbformat": 4,
 "nbformat_minor": 2
}
