{
 "cells": [
  {
   "cell_type": "markdown",
   "metadata": {},
   "source": [
    "###### 연습문제 8-3 객체 비교하기\n",
    "\n",
    " - 다음 질문에 답해 보라.\n",
    "\n",
    "```\n",
    " 1. 1 == 1.0을 평가하면 참이다. 그렇다면 1과 1.0은 동일한 객체인가?\n",
    "\n",
    " 2. type(a) == type(b)가 참이면, a == b도 참인가?\n",
    "\n",
    " 3. id(a) == id(b)가 참이면, type(a) == type(a)와 a == b도 참인가?\n",
    "\n",
    " 4. type(a) == type(b)와 a == b가 참이면, id(a) == id(b)도 참인가?\n",
    "```"
   ]
  },
  {
   "cell_type": "markdown",
   "metadata": {},
   "source": [
    "### 연습문제 8 답안\n",
    " - 1. 동일한 객체가 아니다\n",
    " - 2. type이 같을뿐 a==b 참이 아닐수있다\n",
    " - 3. id 가 같음으로 type(a) == type(b) 와 a==b는 참이다\n",
    " - 4. type(a) == type(b) 와 a==b 가 참이여도 id는 다를수있다"
   ]
  },
  {
   "cell_type": "code",
   "execution_count": null,
   "metadata": {},
   "outputs": [],
   "source": []
  }
 ],
 "metadata": {
  "kernelspec": {
   "display_name": "Python 3",
   "language": "python",
   "name": "python3"
  },
  "language_info": {
   "codemirror_mode": {
    "name": "ipython",
    "version": 3
   },
   "file_extension": ".py",
   "mimetype": "text/x-python",
   "name": "python",
   "nbconvert_exporter": "python",
   "pygments_lexer": "ipython3",
   "version": "3.7.3"
  }
 },
 "nbformat": 4,
 "nbformat_minor": 2
}
