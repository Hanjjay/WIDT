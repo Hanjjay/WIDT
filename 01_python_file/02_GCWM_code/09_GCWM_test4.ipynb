{
 "cells": [
  {
   "cell_type": "markdown",
   "metadata": {},
   "source": [
    "###### 연습문제 8-7 좌표 인스턴스의 거리 계산하기\n",
    "\n",
    " - 연습문제 8-6에서 생성한 두 인스턴스의 거리를 계산하려 한다. 코드 8-2에서 정의한 두 점 사이의 거리를 계산하는 함수를 다음과 같이 정의하였다.\n",
    "\n",
    "```\n",
    "import math\n",
    "\n",
    "def square(x):\n",
    "    \"\"\"전달받은 수의 제곱을 반환한다.\"\"\"\n",
    "    return x * x\n",
    "\n",
    "def distance(point_a, point_b):\n",
    "    \"\"\"두 점 사이의 거리를 계산해 반환한다. (피타고라스의 정리)\"\"\"\n",
    "    return math.sqrt(square(point_a['x'] - point_b['x']) +\n",
    "                     square(point_a['y'] - point_b['y']))\n",
    "                     \n",
    "```\n",
    "\n",
    " - 이 함수를 참고해, Coordinate 인스턴스 두 개를 전달받아 거리를 계산하는 함수 distance()를 정의해라.\n",
    "\n",
    " - 다음은 이 함수를 이용해 인스턴스의 거리를 계산한 예다.\n",
    "\n",
    "```\n",
    " distance(point_1, point_2)   # 3.1622776601683795 반환\n",
    "```\n",
    " - 힌트: 매핑(사전)에 저장된 값을 읽는 방법과 클래스에서 속성을 읽는 방법은 문법이 서로 다르다."
   ]
  },
  {
   "cell_type": "code",
   "execution_count": 15,
   "metadata": {},
   "outputs": [],
   "source": [
    "import math\n",
    "\n",
    "def square(x):\n",
    "    \"\"\"전달받은 수의 제곱을 반환한다.\"\"\"\n",
    "    return x * x\n",
    "\n",
    "def distance(point_A,point_B):\n",
    "\n",
    "    return math.sqrt(square(point_A.x - point_B.x) + square(point_A.y - point_B.y))\n"
   ]
  },
  {
   "cell_type": "code",
   "execution_count": 16,
   "metadata": {},
   "outputs": [
    {
     "name": "stdout",
     "output_type": "stream",
     "text": [
      "-1 2\n",
      "2 3\n"
     ]
    }
   ],
   "source": [
    "point_1 = Coordinate()\n",
    "point_1.x = -1\n",
    "point_1.y = 2\n",
    "print(point_1.x , point_1.y)\n",
    "\n",
    "point_2 = Coordinate()\n",
    "point_2.x = 2\n",
    "point_2.y = 3\n",
    "print(point_2.x , point_2.y)"
   ]
  },
  {
   "cell_type": "code",
   "execution_count": 17,
   "metadata": {},
   "outputs": [
    {
     "data": {
      "text/plain": [
       "3.1622776601683795"
      ]
     },
     "execution_count": 17,
     "metadata": {},
     "output_type": "execute_result"
    }
   ],
   "source": [
    "distance(point_1,point_2)"
   ]
  },
  {
   "cell_type": "code",
   "execution_count": null,
   "metadata": {},
   "outputs": [],
   "source": []
  }
 ],
 "metadata": {
  "kernelspec": {
   "display_name": "Python 3",
   "language": "python",
   "name": "python3"
  },
  "language_info": {
   "codemirror_mode": {
    "name": "ipython",
    "version": 3
   },
   "file_extension": ".py",
   "mimetype": "text/x-python",
   "name": "python",
   "nbconvert_exporter": "python",
   "pygments_lexer": "ipython3",
   "version": "3.7.3"
  }
 },
 "nbformat": 4,
 "nbformat_minor": 2
}
