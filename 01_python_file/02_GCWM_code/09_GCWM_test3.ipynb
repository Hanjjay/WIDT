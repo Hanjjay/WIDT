{
 "cells": [
  {
   "cell_type": "markdown",
   "metadata": {},
   "source": [
    "###### 연습문제 8-5 좌표 클래스 정의하기\n",
    "\n",
    " - 좌표를 나타내는 클래스 Coordinate를 정의해 보아라. \n",
    " \n",
    " - 이 클래스의 속성으로 x와 y를 정의하라. 두 속성의 값은 0으로 정의해 두면 된다."
   ]
  },
  {
   "cell_type": "code",
   "execution_count": 8,
   "metadata": {},
   "outputs": [],
   "source": [
    "class Coordinate(object):\n",
    "    x = 0\n",
    "    y = 0\n",
    "    "
   ]
  },
  {
   "cell_type": "code",
   "execution_count": 9,
   "metadata": {},
   "outputs": [],
   "source": [
    "a = Coordinate()"
   ]
  },
  {
   "cell_type": "code",
   "execution_count": 10,
   "metadata": {},
   "outputs": [
    {
     "name": "stdout",
     "output_type": "stream",
     "text": [
      "0 0\n"
     ]
    }
   ],
   "source": [
    "print(a.x,a.y)"
   ]
  },
  {
   "cell_type": "markdown",
   "metadata": {},
   "source": [
    "###### 연습문제 8-6 좌표 클래스의 인스턴스 생성하기\n",
    "\n",
    " - 연습문제 8-5에서 정의한 Coordinate() 클래스의 인스턴스를 두 개 생성하고, 인스턴스의 속성을 다음과 같이 각각 부여해라.\n",
    "\n",
    "```\n",
    "첫번째 인스턴스(point_1): x 축의 좌표는 -1, y 축의 좌표는 2\n",
    "두번째 인스턴스(point_2): x 축의 좌표는 2, y 축의 좌표는 3\n",
    "```"
   ]
  },
  {
   "cell_type": "code",
   "execution_count": 13,
   "metadata": {},
   "outputs": [
    {
     "name": "stdout",
     "output_type": "stream",
     "text": [
      "-1 2\n",
      "2 3\n"
     ]
    }
   ],
   "source": [
    "point_1 = Coordinate()\n",
    "point_1.x = -1\n",
    "point_1.y = 2\n",
    "print(point_1.x , point_1.y)\n",
    "\n",
    "point_2 = Coordinate()\n",
    "point_2.x = 2\n",
    "point_2.y = 3\n",
    "print(point_2.x , point_2.y)"
   ]
  },
  {
   "cell_type": "markdown",
   "metadata": {},
   "source": [
    "###### 연습문제 8-7 좌표 인스턴스의 거리 계산하기\n",
    "\n",
    " - 연습문제 8-6에서 생성한 두 인스턴스의 거리를 계산하려 한다. 코드 8-2에서 정의한 두 점 사이의 거리를 계산하는 함수를 다음과 같이 정의하였다.\n",
    "\n",
    "```\n",
    "import math\n",
    "\n",
    "def square(x):\n",
    "    \"\"\"전달받은 수의 제곱을 반환한다.\"\"\"\n",
    "    return x * x\n",
    "\n",
    "def distance(point_a, point_b):\n",
    "    \"\"\"두 점 사이의 거리를 계산해 반환한다. (피타고라스의 정리)\"\"\"\n",
    "    return math.sqrt(square(point_a['x'] - point_b['x']) +\n",
    "                     square(point_a['y'] - point_b['y']))\n",
    "                     \n",
    "```\n",
    "\n",
    " - 이 함수를 참고해, Coordinate 인스턴스 두 개를 전달받아 거리를 계산하는 함수 distance()를 정의해라.\n",
    "\n",
    " - 다음은 이 함수를 이용해 인스턴스의 거리를 계산한 예다.\n",
    "\n",
    "```\n",
    " distance(point_1, point_2)   # 3.1622776601683795 반환\n",
    "```\n",
    " - 힌트: 매핑(사전)에 저장된 값을 읽는 방법과 클래스에서 속성을 읽는 방법은 문법이 서로 다르다."
   ]
  },
  {
   "cell_type": "code",
   "execution_count": null,
   "metadata": {},
   "outputs": [],
   "source": []
  }
 ],
 "metadata": {
  "kernelspec": {
   "display_name": "Python 3",
   "language": "python",
   "name": "python3"
  },
  "language_info": {
   "codemirror_mode": {
    "name": "ipython",
    "version": 3
   },
   "file_extension": ".py",
   "mimetype": "text/x-python",
   "name": "python",
   "nbconvert_exporter": "python",
   "pygments_lexer": "ipython3",
   "version": "3.7.3"
  }
 },
 "nbformat": 4,
 "nbformat_minor": 2
}
