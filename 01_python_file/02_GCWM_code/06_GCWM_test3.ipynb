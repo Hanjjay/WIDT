{
 "cells": [
  {
   "cell_type": "code",
   "execution_count": 3,
   "metadata": {},
   "outputs": [],
   "source": [
    "def is_leap_year(n):\n",
    "    if 0 == n%4:\n",
    "        if 0 == n%100:\n",
    "            if 0 == n%400:\n",
    "                return True\n",
    "            else: return False\n",
    "        else: return True\n",
    "    else: return False"
   ]
  },
  {
   "cell_type": "code",
   "execution_count": 8,
   "metadata": {},
   "outputs": [
    {
     "name": "stdout",
     "output_type": "stream",
     "text": [
      "28\n",
      "29\n"
     ]
    }
   ],
   "source": [
    "def days_in_month(n,m):\n",
    "    month_31 = [1,3,5,7,8,10,12]\n",
    "    month_30 = [4,6,9,11] \n",
    "    if m==2:                         #2일경우\n",
    "        if is_leap_year(n) == True :\n",
    "            return 29\n",
    "        else:\n",
    "            return 28\n",
    "    elif m in month_30:\n",
    "        return 30\n",
    "    else:\n",
    "        return 31\n",
    "print(days_in_month(2019,2))\n",
    "print(days_in_month(2020,2))"
   ]
  },
  {
   "cell_type": "code",
   "execution_count": null,
   "metadata": {},
   "outputs": [],
   "source": []
  },
  {
   "cell_type": "code",
   "execution_count": null,
   "metadata": {},
   "outputs": [],
   "source": []
  }
 ],
 "metadata": {
  "kernelspec": {
   "display_name": "Python 3",
   "language": "python",
   "name": "python3"
  },
  "language_info": {
   "codemirror_mode": {
    "name": "ipython",
    "version": 3
   },
   "file_extension": ".py",
   "mimetype": "text/x-python",
   "name": "python",
   "nbconvert_exporter": "python",
   "pygments_lexer": "ipython3",
   "version": "3.7.3"
  }
 },
 "nbformat": 4,
 "nbformat_minor": 2
}
