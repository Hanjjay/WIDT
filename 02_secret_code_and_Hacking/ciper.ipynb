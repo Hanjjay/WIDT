{
 "cells": [
  {
   "cell_type": "code",
   "execution_count": 20,
   "metadata": {},
   "outputs": [],
   "source": [
    "def ciper():\n",
    "    decbook = {\n",
    "        '5':'a','6':'A',\n",
    "        'd':'b','E':'B',\n",
    "        '!':'c','?':'C',\n",
    "        '=':'d','+':'D',\n",
    "        '3':'e','@':'E',\n",
    "        ',':'f','<':'F',\n",
    "        '`':'g','~':'G',\n",
    "        '#':'h','V':'H',\n",
    "        ')':'i',')':'I',\n",
    "        '$':'l','A':'L',\n",
    "        '0':'m','Q':'M',\n",
    "        'x':'n','.':'N',\n",
    "        '3':'o','W':'O',\n",
    "        '*':'p','%':'P',\n",
    "        '{':'r',']':'R',\n",
    "        '|':'s','7':'S',\n",
    "        'n':'t','ㅍ':'T',\n",
    "        ';':'u','ㄹ':'U',\n",
    "        'g':'v','>':'V',\n",
    "        '^':'y','j':'Y',\n",
    "        ' ':'z','ㅜ':'Z',\n",
    "        'J':' '\n",
    "    }\n",
    "    encbook = {}\n",
    "    for k in decbook:\n",
    "        val = decbook[k]\n",
    "        encbook[val] = k\n",
    "    return ecbook,decbook"
   ]
  },
  {
   "cell_type": "code",
   "execution_count": 25,
   "metadata": {},
   "outputs": [],
   "source": [
    "def encrypt(msg,encbook):\n",
    "    for c in msg:\n",
    "        if c in encbook:\n",
    "            msg = msg.replace(c,encbook[c])\n",
    "    return msg"
   ]
  },
  {
   "cell_type": "code",
   "execution_count": 26,
   "metadata": {},
   "outputs": [],
   "source": [
    "def decrypt(msg,decbook):\n",
    "    for c in decbook:\n",
    "        if c in decbook:\n",
    "            msg = msg.replace(c,decbook[c])\n",
    "    return msg"
   ]
  },
  {
   "cell_type": "code",
   "execution_count": 27,
   "metadata": {
    "scrolled": true
   },
   "outputs": [
    {
     "name": "stdout",
     "output_type": "stream",
     "text": [
      "ViJQ^Jx50eJi|J#5xJj5^Jxi!eJn3J0eenJ^3;\n",
      "Hi My tame is hat Yay tice to meet you\n"
     ]
    }
   ],
   "source": [
    "if __name__=='__main__':\n",
    "    \n",
    "    plaintext = 'Hi My name is han jay nice to meet you'\n",
    "    encbook,decbook = ciper()\n",
    "    ciphertext = encrypt(plaintext,encbook)\n",
    "    print(ciphertext)\n",
    "    \n",
    "    deciphertext = decrypt(ciphertext,decbook)\n",
    "    print(deciphertext)"
   ]
  },
  {
   "cell_type": "code",
   "execution_count": null,
   "metadata": {},
   "outputs": [],
   "source": []
  }
 ],
 "metadata": {
  "kernelspec": {
   "display_name": "Python 3",
   "language": "python",
   "name": "python3"
  },
  "language_info": {
   "codemirror_mode": {
    "name": "ipython",
    "version": 3
   },
   "file_extension": ".py",
   "mimetype": "text/x-python",
   "name": "python",
   "nbconvert_exporter": "python",
   "pygments_lexer": "ipython3",
   "version": "3.7.3"
  }
 },
 "nbformat": 4,
 "nbformat_minor": 2
}
