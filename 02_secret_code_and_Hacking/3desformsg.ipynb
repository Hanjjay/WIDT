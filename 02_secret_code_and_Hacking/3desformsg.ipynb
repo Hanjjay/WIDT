{
 "cells": [
  {
   "cell_type": "code",
   "execution_count": 1,
   "metadata": {},
   "outputs": [],
   "source": [
    "from Crypto.Cipher import DES3\n",
    "from Crypto.Hash import SHA256 as SHA"
   ]
  },
  {
   "cell_type": "code",
   "execution_count": 2,
   "metadata": {},
   "outputs": [],
   "source": [
    "class myDES():\n",
    "    \n",
    "    def __init__(self,keytext,ivtext):\n",
    "        hash = SHA.new()\n",
    "        hash.update(keytext.encode('utf-8'))\n",
    "        key = hash.digest()\n",
    "        self.key =key [:24]\n",
    "    \n",
    "        hash.update(ivtext.encode('utf-8'))\n",
    "        iv = hash.digest()\n",
    "        self.iv = iv[:8]\n",
    "        return\n",
    "    \n",
    "    def enc(self,plaintext):\n",
    "        plaintext = make8String(plaintext)\n",
    "        des3 =DES3.new(self.key,DES3.MODE_CBC,self.iv)\n",
    "        encmsg = des3.encrypt(plaintext.encode())\n",
    "        return encmsg\n",
    "    \n",
    "    def dec(self,ciphertext):\n",
    "        dec3 = DES3.new(self.key,DES3.MODE_CBC,self.iv)\n",
    "        decmsg = dec3.decrypt(ciphertext)\n",
    "        return decmsg"
   ]
  },
  {
   "cell_type": "code",
   "execution_count": 3,
   "metadata": {},
   "outputs": [],
   "source": [
    "def make8String(msg):\n",
    "    msglen=len(msg)\n",
    "    filler = ''\n",
    "    if msglen%8 != 0:\n",
    "        filler ='0'*(8-msglen%8)\n",
    "    msg += filler\n",
    "    return msg"
   ]
  },
  {
   "cell_type": "code",
   "execution_count": 6,
   "metadata": {},
   "outputs": [],
   "source": [
    "def main():\n",
    "    keytext = 'fdaf'\n",
    "    ivtext = '1234'\n",
    "    msg = 'i love u baby khhkgk'\n",
    "    \n",
    "    myCipher = myDES(keytext,ivtext)\n",
    "    ciphered = myCipher.enc(msg)\n",
    "    deciphered = myCipher.dec(ciphered)\n",
    "    print(msg)\n",
    "    print(ciphered)\n",
    "    print(deciphered)"
   ]
  },
  {
   "cell_type": "code",
   "execution_count": 7,
   "metadata": {},
   "outputs": [
    {
     "name": "stdout",
     "output_type": "stream",
     "text": [
      "i love u baby khhkgk\n",
      "b'\\xb0\\xf5\\xb3z\\x82\\xf2o\\x17\\xc6\\xbbyQmm\\n\\x12\\x1cz5\\x88C\\xb86\\xd2'\n",
      "b'i love u baby khhkgk0000'\n"
     ]
    }
   ],
   "source": [
    "    main()"
   ]
  },
  {
   "cell_type": "code",
   "execution_count": null,
   "metadata": {},
   "outputs": [],
   "source": []
  }
 ],
 "metadata": {
  "kernelspec": {
   "display_name": "Python 3",
   "language": "python",
   "name": "python3"
  },
  "language_info": {
   "codemirror_mode": {
    "name": "ipython",
    "version": 3
   },
   "file_extension": ".py",
   "mimetype": "text/x-python",
   "name": "python",
   "nbconvert_exporter": "python",
   "pygments_lexer": "ipython3",
   "version": "3.7.3"
  }
 },
 "nbformat": 4,
 "nbformat_minor": 2
}
