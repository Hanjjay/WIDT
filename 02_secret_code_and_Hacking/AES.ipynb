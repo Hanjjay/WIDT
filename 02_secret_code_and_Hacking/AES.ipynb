{
 "cells": [
  {
   "cell_type": "code",
   "execution_count": 2,
   "metadata": {},
   "outputs": [],
   "source": [
    "from Crypto.Hash import SHA256 as SAH\n",
    "from Crypto.Cipher import AES"
   ]
  },
  {
   "cell_type": "code",
   "execution_count": 3,
   "metadata": {},
   "outputs": [],
   "source": [
    "class myAES():\n",
    "     def __init__(self,keytext,ivtext):\n",
    "            hash =SHA.new()\n",
    "            hash.update(keytext.encode('utf-8'))\n",
    "            key = hash.digest()\n",
    "            self.key = key[:24]\n",
    "            \n",
    "            hash.update(ivtext.encode('utf-8'))\n",
    "            iv = iv.digest()\n",
    "            self.iv = iv[:8]\n",
    "            \n",
    "            return"
   ]
  },
  {
   "cell_type": "code",
   "execution_count": null,
   "metadata": {},
   "outputs": [],
   "source": [
    "    def enc(self,keytext,ivtext):\n",
    "        return msg"
   ]
  },
  {
   "cell_type": "code",
   "execution_count": 4,
   "metadata": {},
   "outputs": [],
   "source": [
    "    def dec(slef,keytext,ivtext):\n",
    "        return msg"
   ]
  },
  {
   "cell_type": "code",
   "execution_count": 5,
   "metadata": {},
   "outputs": [],
   "source": [
    "def main():\n",
    "        keytext = ''\n",
    "        plaintext =\n",
    "        "
   ]
  },
  {
   "cell_type": "code",
   "execution_count": null,
   "metadata": {},
   "outputs": [],
   "source": [
    "main()"
   ]
  }
 ],
 "metadata": {
  "kernelspec": {
   "display_name": "Python 3",
   "language": "python",
   "name": "python3"
  },
  "language_info": {
   "codemirror_mode": {
    "name": "ipython",
    "version": 3
   },
   "file_extension": ".py",
   "mimetype": "text/x-python",
   "name": "python",
   "nbconvert_exporter": "python",
   "pygments_lexer": "ipython3",
   "version": "3.7.3"
  }
 },
 "nbformat": 4,
 "nbformat_minor": 2
}
