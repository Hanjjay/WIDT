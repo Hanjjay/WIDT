{
 "cells": [
  {
   "cell_type": "code",
   "execution_count": 4,
   "metadata": {},
   "outputs": [],
   "source": [
    " from Crypto.PublicKey import ECC"
   ]
  },
  {
   "cell_type": "code",
   "execution_count": 6,
   "metadata": {},
   "outputs": [],
   "source": [
    "def createPEM_ECDSA():\n",
    "    key = ECC.generate(curve='P-256')\n",
    "    with open('privkey_ecdsa.pem','w') as h:\n",
    "        h.write(key.export_key(format = 'PEM'))\n",
    "    \n",
    "    key = key.public_key()\n",
    "    with open('pubkey_ecdsa.pem','w') as h:\n",
    "        h.write(key.export_key(format = 'PEM'))\n",
    "        \n",
    "createPEM_ECDSA()"
   ]
  }
 ],
 "metadata": {
  "kernelspec": {
   "display_name": "Python 3",
   "language": "python",
   "name": "python3"
  },
  "language_info": {
   "codemirror_mode": {
    "name": "ipython",
    "version": 3
   },
   "file_extension": ".py",
   "mimetype": "text/x-python",
   "name": "python",
   "nbconvert_exporter": "python",
   "pygments_lexer": "ipython3",
   "version": "3.7.3"
  }
 },
 "nbformat": 4,
 "nbformat_minor": 2
}
