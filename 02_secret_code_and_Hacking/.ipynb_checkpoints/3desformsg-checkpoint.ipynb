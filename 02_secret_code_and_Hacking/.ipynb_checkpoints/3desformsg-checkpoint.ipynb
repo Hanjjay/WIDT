{
 "cells": [
  {
   "cell_type": "code",
   "execution_count": 5,
   "metadata": {},
   "outputs": [],
   "source": [
    "from Crypto.Cipher import DES3\n",
    "from Crypto.Hash import SHA256 as SHA"
   ]
  },
  {
   "cell_type": "code",
   "execution_count": 6,
   "metadata": {},
   "outputs": [],
   "source": [
    "class myDES():\n",
    "    \n",
    "    def __init__(self,keytext,ivtext):\n",
    "        hash = SHA.new()\n",
    "        hash.update(keytext.encode('utf-8'))\n",
    "        key = hash.digest()\n",
    "        self.key =key [:24]\n",
    "    \n",
    "        hash.update(ivtext.encode('utf-8'))\n",
    "        iv = hash.digest()\n",
    "        self.iv = iv[:8]\n",
    "        return\n",
    "    \n",
    "    def enc(self,plaintext):\n",
    "        des3 =DES3.new(self.key,DES3.MODE_CBC,self.iv)\n",
    "        encmsg = des3.encrypt(plaintext.encode())\n",
    "        return encmsg\n",
    "    \n",
    "    def dec(self,ciphertext):\n",
    "        dec3 = DES3.new(self.key,DES3.MODE_CBC,self.iv)\n",
    "        decmsg = dec3.decrypt(ciphertext)\n",
    "        return decmsg"
   ]
  },
  {
   "cell_type": "code",
   "execution_count": 9,
   "metadata": {},
   "outputs": [],
   "source": [
    "def main():\n",
    "    keytext = 'hanjay'\n",
    "    ivtext = '1234'\n",
    "    msg = 'zxcvafds'\n",
    "    \n",
    "    myCipher = myDES(keytext,ivtext)\n",
    "    ciphered = myCipher.enc(msg)\n",
    "    deciphered = myCipher.dec(ciphered)\n",
    "    print(msg)\n",
    "    print(ciphered)\n",
    "    print(deciphered)"
   ]
  },
  {
   "cell_type": "code",
   "execution_count": 10,
   "metadata": {},
   "outputs": [
    {
     "name": "stdout",
     "output_type": "stream",
     "text": [
      "zxcvafds\n",
      "b't\\x86${i0\\xb0{'\n",
      "b'zxcvafds'\n"
     ]
    }
   ],
   "source": [
    "    main()"
   ]
  },
  {
   "cell_type": "code",
   "execution_count": null,
   "metadata": {},
   "outputs": [],
   "source": []
  }
 ],
 "metadata": {
  "kernelspec": {
   "display_name": "Python 3",
   "language": "python",
   "name": "python3"
  },
  "language_info": {
   "codemirror_mode": {
    "name": "ipython",
    "version": 3
   },
   "file_extension": ".py",
   "mimetype": "text/x-python",
   "name": "python",
   "nbconvert_exporter": "python",
   "pygments_lexer": "ipython3",
   "version": "3.7.3"
  }
 },
 "nbformat": 4,
 "nbformat_minor": 2
}
