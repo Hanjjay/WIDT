{
 "cells": [
  {
   "cell_type": "code",
   "execution_count": 1,
   "metadata": {},
   "outputs": [],
   "source": [
    "ENC = 0\n",
    "DEC = 1"
   ]
  },
  {
   "cell_type": "code",
   "execution_count": 31,
   "metadata": {},
   "outputs": [],
   "source": [
    "def pareseKey(key):\n",
    "    tmp = []\n",
    "    key = key.upper()\n",
    "    \n",
    "    for i, k in enumerate(key):\n",
    "        tmp.append((i ,k))\n",
    "        \n",
    "    tmp = sorted(tmp, key = lambda x:x[1])\n",
    "    \n",
    "    enc_table = {}\n",
    "    dec_table = {}\n",
    "    for i,r in enumerate(tmp):\n",
    "        enc_table[r[0]] = i\n",
    "        dec_table[i] = r[0]\n",
    "        \n",
    "    return enc_table, dec_table"
   ]
  },
  {
   "cell_type": "code",
   "execution_count": 47,
   "metadata": {},
   "outputs": [],
   "source": [
    "def transpsition(msg,key,mode):\n",
    "    msgsize = len(msg)\n",
    "    keysize = len(key)\n",
    "    ret = ''\n",
    "    \n",
    "    filler = ''\n",
    "    if msgsize%keysize !=0:\n",
    "        filler = '0'*(keysize - msgsize%keysize)\n",
    "    \n",
    "    msg = msg.upper()\n",
    "    msg += filler\n",
    "    \n",
    "    enc_table , dec_table = pareseKey(key)\n",
    "    \n",
    "    if mode == ENC:\n",
    "        table = enc_table\n",
    "    else:\n",
    "        talbe = dec_table\n",
    "    \n",
    "    if mode == ENC:                   #암호화\n",
    "        buf = ['']*keysize\n",
    "        for i , c in enumerate(msg):\n",
    "            col = i%keysize\n",
    "            index = table[col]\n",
    "            buf[index] += c\n",
    "        for text in buf:\n",
    "            ret += text\n",
    "    \n",
    "    else :                            #복호화\n",
    "        blocksize = int(msgsize/keysize)\n",
    "        buf =  ['']*keysize\n",
    "        pos = 0\n",
    "        for i in range(keysize):\n",
    "            text = msg[pos:pos+blocksize]\n",
    "            index = talbe[i]\n",
    "            buf[index] +=text\n",
    "            pos += blocksize\n",
    "            \n",
    "        for i in range(blocksize):\n",
    "            for j in range(keysize):\n",
    "                if buf[j][i] != '0':\n",
    "                    ret +=buf[j][i]\n",
    "                    \n",
    "    return ret"
   ]
  },
  {
   "cell_type": "code",
   "execution_count": 70,
   "metadata": {},
   "outputs": [],
   "source": [
    "def main():\n",
    "    key ='QWER'\n",
    "    msg = 'ABCDEFGHIJKLMNOPQRXTUVWXYZ'\n",
    "    print(msg)\n",
    "    enctext = transpsition(msg,key,ENC)\n",
    "    print(enctext)\n",
    "    dectext = transpsition(enctext,key,DEC)\n",
    "    print(dectext)"
   ]
  },
  {
   "cell_type": "code",
   "execution_count": 71,
   "metadata": {},
   "outputs": [
    {
     "name": "stdout",
     "output_type": "stream",
     "text": [
      "ABCDEFGHIJKLMNOPQRXTUVWXYZ\n",
      "CGKOXW0AEIMQUYDHLPTX0BFJNRVZ\n",
      "ABCDEFGHIJKLMNOPQRXTUVWXYZ\n"
     ]
    }
   ],
   "source": [
    "if __name__ == '__main__':\n",
    "    main()"
   ]
  },
  {
   "cell_type": "code",
   "execution_count": null,
   "metadata": {},
   "outputs": [],
   "source": []
  }
 ],
 "metadata": {
  "kernelspec": {
   "display_name": "Python 3",
   "language": "python",
   "name": "python3"
  },
  "language_info": {
   "codemirror_mode": {
    "name": "ipython",
    "version": 3
   },
   "file_extension": ".py",
   "mimetype": "text/x-python",
   "name": "python",
   "nbconvert_exporter": "python",
   "pygments_lexer": "ipython3",
   "version": "3.7.3"
  }
 },
 "nbformat": 4,
 "nbformat_minor": 2
}
