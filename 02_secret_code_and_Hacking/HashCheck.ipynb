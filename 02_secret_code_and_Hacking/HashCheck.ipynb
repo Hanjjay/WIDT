{
 "cells": [
  {
   "cell_type": "code",
   "execution_count": 3,
   "metadata": {},
   "outputs": [],
   "source": [
    "from hashlib import sha256 as SHA\n",
    "SZIE = 1024*256\n",
    "\n",
    "def GetFileHash(filename):\n",
    "\n",
    "    sha = SHA()\n",
    "    h = opne(filename,'rb')\n",
    "    content = h.read(SIZE)\n",
    "    \n",
    "    while content:\n",
    "        sha.update(content)\n",
    "        content = h.read(SIZE)\n",
    "    h.close()\n",
    "    \n",
    "    hashvalue = sha.digest()\n",
    "    return hashvalue\n",
    "\n",
    "def HashCheck(file1,file2):\n",
    "    hashvalue1 = GetFileHash(file1)\n",
    "    hashvalue2 = GetFileHash(file2)\n",
    "\n",
    "    if hashvalue1 == hashvalue2:\n",
    "        print(\"It's same file\")\n",
    "    else:\n",
    "        print(\"Diffrent\")\n",
    "    return\n",
    "\n",
    "def main():\n",
    "    file1 ='paline.txt'\n",
    "    file2 ='paline.txt.enc.dec'\n",
    "\n",
    "\n",
    "main()"
   ]
  },
  {
   "cell_type": "code",
   "execution_count": null,
   "metadata": {},
   "outputs": [],
   "source": []
  }
 ],
 "metadata": {
  "kernelspec": {
   "display_name": "Python 3",
   "language": "python",
   "name": "python3"
  },
  "language_info": {
   "codemirror_mode": {
    "name": "ipython",
    "version": 3
   },
   "file_extension": ".py",
   "mimetype": "text/x-python",
   "name": "python",
   "nbconvert_exporter": "python",
   "pygments_lexer": "ipython3",
   "version": "3.7.3"
  }
 },
 "nbformat": 4,
 "nbformat_minor": 2
}
